{
 "cells": [
  {
   "cell_type": "code",
   "execution_count": 1,
   "id": "6738dd68",
   "metadata": {},
   "outputs": [],
   "source": [
    "from glob import glob\n",
    "import matplotlib.pyplot as plt\n",
    "from pyAudioAnalysis import ShortTermFeatures as sf\n",
    "import librosa\n",
    "import librosa.display\n",
    "import numpy as np\n",
    "import pandas as pd\n",
    "import warnings\n",
    "import pickle\n",
    "warnings.filterwarnings(\"ignore\")"
   ]
  },
  {
   "cell_type": "code",
   "execution_count": 2,
   "id": "4dc5093e",
   "metadata": {},
   "outputs": [],
   "source": [
    "file_paths_1 = glob('../Downloads/Audio-Classification-master/Audio_data/*/*.wav')"
   ]
  },
  {
   "cell_type": "code",
   "execution_count": 3,
   "id": "3b0fbdea",
   "metadata": {},
   "outputs": [],
   "source": [
    "neutral_1 = glob('../Downloads/Audio-Classification-master/Audio_data/neutral/*')\n",
    "angry_1 = glob('../Downloads/Audio-Classification-master/Audio_data/angry/*')\n",
    "\n"
   ]
  },
  {
   "cell_type": "code",
   "execution_count": 4,
   "id": "338043cc",
   "metadata": {},
   "outputs": [],
   "source": [
    "neutral_2 = glob('../Downloads/URDU-Dataset-master/Neutral/*')\n",
    "\n",
    "happy = glob('../Downloads/URDU-Dataset-master/Happy/*')\n",
    "\n",
    "angry_2 = glob('../Downloads/URDU-Dataset-master/Angry/*')\n",
    "\n",
    "\n"
   ]
  },
  {
   "cell_type": "code",
   "execution_count": null,
   "id": "ea083ae3",
   "metadata": {},
   "outputs": [],
   "source": []
  },
  {
   "cell_type": "code",
   "execution_count": 5,
   "id": "babc4cf0",
   "metadata": {},
   "outputs": [
    {
     "data": {
      "text/plain": [
       "410"
      ]
     },
     "execution_count": 5,
     "metadata": {},
     "output_type": "execute_result"
    }
   ],
   "source": [
    "angry = angry_1+angry_2\n",
    "neutral = neutral_1+neutral_2\n",
    "negative = angry \n",
    "positive = happy\n",
    "paths = positive +  negative + neutral\n",
    "len(paths)"
   ]
  },
  {
   "cell_type": "code",
   "execution_count": 341,
   "id": "cfce7174",
   "metadata": {},
   "outputs": [
    {
     "data": {
      "text/plain": [
       "['../Downloads/URDU-Dataset-master/Happy/SF6_F9_H033.wav',\n",
       " '../Downloads/URDU-Dataset-master/Happy/SM17_F1_H047.wav',\n",
       " '../Downloads/URDU-Dataset-master/Happy/SF6_F11_H035.wav',\n",
       " '../Downloads/URDU-Dataset-master/Happy/SF1_F3_H03.wav',\n",
       " '../Downloads/URDU-Dataset-master/Happy/SM7_F14_H086.wav',\n",
       " '../Downloads/URDU-Dataset-master/Happy/SM7_F15_H087.wav',\n",
       " '../Downloads/URDU-Dataset-master/Happy/SF8_F1_H045.wav',\n",
       " '../Downloads/URDU-Dataset-master/Happy/SF6_F10_H034.wav',\n",
       " '../Downloads/URDU-Dataset-master/Happy/SF6_F8_H032.wav',\n",
       " '../Downloads/URDU-Dataset-master/Happy/SM3_F2_H054.wav',\n",
       " '../Downloads/URDU-Dataset-master/Happy/SM7_F21_H093.wav',\n",
       " '../Downloads/URDU-Dataset-master/Happy/SF6_F3_H027.wav',\n",
       " '../Downloads/URDU-Dataset-master/Happy/SF6_F2_H026.wav',\n",
       " '../Downloads/URDU-Dataset-master/Happy/SF5_F4_H024.wav',\n",
       " '../Downloads/URDU-Dataset-master/Happy/SM7_F20_H092.wav',\n",
       " '../Downloads/URDU-Dataset-master/Happy/SM6_F10_H072.wav',\n",
       " '../Downloads/URDU-Dataset-master/Happy/SF6_F14_H038.wav',\n",
       " '../Downloads/URDU-Dataset-master/Happy/SM7_F4_H076.wav',\n",
       " '../Downloads/URDU-Dataset-master/Happy/SF1_F2_H02.wav',\n",
       " '../Downloads/URDU-Dataset-master/Happy/SM7_F5_H077.wav',\n",
       " '../Downloads/URDU-Dataset-master/Happy/SF7_F6_H044.wav',\n",
       " '../Downloads/URDU-Dataset-master/Happy/SM7_F3_H075.wav',\n",
       " '../Downloads/URDU-Dataset-master/Happy/SM7_F2_H074.wav',\n",
       " '../Downloads/URDU-Dataset-master/Happy/SM17_F2_H048.wav',\n",
       " '../Downloads/URDU-Dataset-master/Happy/SM5_F3_H057.wav',\n",
       " '../Downloads/URDU-Dataset-master/Happy/SF5_F3_H023.wav',\n",
       " '../Downloads/URDU-Dataset-master/Happy/SM6_F1_H063.wav',\n",
       " '../Downloads/URDU-Dataset-master/Happy/SM7_F17_H089.wav',\n",
       " '../Downloads/URDU-Dataset-master/Happy/SM5_F7_H061.wav',\n",
       " '../Downloads/URDU-Dataset-master/Happy/SF1_F12_H012.wav',\n",
       " '../Downloads/URDU-Dataset-master/Happy/SM7_F16_H088.wav',\n",
       " '../Downloads/URDU-Dataset-master/Happy/SM5_F6_H060.wav',\n",
       " '../Downloads/URDU-Dataset-master/Happy/SF5_F2_H022.wav',\n",
       " '../Downloads/URDU-Dataset-master/Happy/SM5_F2_H056.wav',\n",
       " '../Downloads/URDU-Dataset-master/Happy/SM19_F2_H052.wav',\n",
       " '../Downloads/URDU-Dataset-master/Happy/SM7_F7_H079.wav',\n",
       " '../Downloads/URDU-Dataset-master/Happy/SM7_F19_H091.wav',\n",
       " '../Downloads/URDU-Dataset-master/Happy/SM7_F18_H090.wav',\n",
       " '../Downloads/URDU-Dataset-master/Happy/SM7_F6_H078.wav',\n",
       " '../Downloads/URDU-Dataset-master/Happy/SM7_F13_H085.wav',\n",
       " '../Downloads/URDU-Dataset-master/Happy/SM7_F12_H084.wav',\n",
       " '../Downloads/URDU-Dataset-master/Happy/SF2_F2_H014.wav',\n",
       " '../Downloads/URDU-Dataset-master/Happy/SF1_F1_H01.wav',\n",
       " '../Downloads/URDU-Dataset-master/Happy/SF3_F1_H015.wav',\n",
       " '../Downloads/URDU-Dataset-master/Happy/SM5_F8_H062.wav',\n",
       " '../Downloads/URDU-Dataset-master/Happy/SM7_F8_H080.wav',\n",
       " '../Downloads/URDU-Dataset-master/Happy/SM7_F23_H095.wav',\n",
       " '../Downloads/URDU-Dataset-master/Happy/SM7_F22_H094.wav',\n",
       " '../Downloads/URDU-Dataset-master/Happy/SF1_F5_H05.wav',\n",
       " '../Downloads/URDU-Dataset-master/Happy/SM7_F9_H081.wav',\n",
       " '../Downloads/URDU-Dataset-master/Happy/SF4_F1_H017.wav',\n",
       " '../Downloads/URDU-Dataset-master/Happy/SM3_F1_H053.wav',\n",
       " '../Downloads/URDU-Dataset-master/Happy/SF6_F4_H028.wav',\n",
       " '../Downloads/URDU-Dataset-master/Happy/SF1_F9_H09.wav',\n",
       " '../Downloads/URDU-Dataset-master/Happy/SF6_F5_H029.wav',\n",
       " '../Downloads/URDU-Dataset-master/Happy/SF4_F4_H020.wav',\n",
       " '../Downloads/URDU-Dataset-master/Happy/SF7_F5_H043.wav',\n",
       " '../Downloads/URDU-Dataset-master/Happy/SM7_F27_H099.wav',\n",
       " '../Downloads/URDU-Dataset-master/Happy/SF6_F12_H036.wav',\n",
       " '../Downloads/URDU-Dataset-master/Happy/SF1_F8_H08.wav',\n",
       " '../Downloads/URDU-Dataset-master/Happy/SF8_F2_H046.wav',\n",
       " '../Downloads/URDU-Dataset-master/Happy/SF6_F13_H037.wav',\n",
       " '../Downloads/URDU-Dataset-master/Happy/SM7_F26_H098.wav',\n",
       " '../Downloads/URDU-Dataset-master/Happy/SF7_F4_H042.wav',\n",
       " '../Downloads/URDU-Dataset-master/Happy/SM18_F1_H049.wav',\n",
       " '../Downloads/URDU-Dataset-master/Happy/SF1_F4_H04.wav',\n",
       " '../Downloads/URDU-Dataset-master/Happy/SM6_F4_H066.wav',\n",
       " '../Downloads/URDU-Dataset-master/Happy/SF6_F1_H025.wav',\n",
       " '../Downloads/URDU-Dataset-master/Happy/SM6_F5_H067.wav',\n",
       " '../Downloads/URDU-Dataset-master/Happy/SF4_F2_H018.wav',\n",
       " '../Downloads/URDU-Dataset-master/Happy/SM6_F3_H065.wav',\n",
       " '../Downloads/URDU-Dataset-master/Happy/SM6_F2_H064.wav',\n",
       " '../Downloads/URDU-Dataset-master/Happy/SF7_F1_H039.wav',\n",
       " '../Downloads/URDU-Dataset-master/Happy/SF4_F3_H019.wav',\n",
       " '../Downloads/URDU-Dataset-master/Happy/SF1_F6_H06.wav',\n",
       " '../Downloads/URDU-Dataset-master/Happy/SM6_F9_H071.wav',\n",
       " '../Downloads/URDU-Dataset-master/Happy/SM7_F1_H073.wav',\n",
       " '../Downloads/URDU-Dataset-master/Happy/SF7_F2_H040.wav',\n",
       " '../Downloads/URDU-Dataset-master/Happy/SF6_F6_H030.wav',\n",
       " '../Downloads/URDU-Dataset-master/Happy/SM7_F28_H0100.wav',\n",
       " '../Downloads/URDU-Dataset-master/Happy/SM5_F4_H058.wav',\n",
       " '../Downloads/URDU-Dataset-master/Happy/SM5_F5_H059.wav',\n",
       " '../Downloads/URDU-Dataset-master/Happy/SF6_F7_H031.wav',\n",
       " '../Downloads/URDU-Dataset-master/Happy/SF7_F3_H041.wav',\n",
       " '../Downloads/URDU-Dataset-master/Happy/SF3_F2_H016.wav',\n",
       " '../Downloads/URDU-Dataset-master/Happy/SM6_F8_H070.wav',\n",
       " '../Downloads/URDU-Dataset-master/Happy/SM7_F11_H083.wav',\n",
       " '../Downloads/URDU-Dataset-master/Happy/SM6_F7_H069.wav',\n",
       " '../Downloads/URDU-Dataset-master/Happy/SF2_F1_H013.wav',\n",
       " '../Downloads/URDU-Dataset-master/Happy/SM7_F10_H082.wav',\n",
       " '../Downloads/URDU-Dataset-master/Happy/SM6_F6_H068.wav',\n",
       " '../Downloads/URDU-Dataset-master/Happy/SF1_F7_H07.wav',\n",
       " '../Downloads/URDU-Dataset-master/Happy/SM7_F24_H096.wav',\n",
       " '../Downloads/URDU-Dataset-master/Happy/SF1_F11_H011.wav',\n",
       " '../Downloads/URDU-Dataset-master/Happy/SF1_F10_H010.wav',\n",
       " '../Downloads/URDU-Dataset-master/Happy/SM7_F25_H097.wav',\n",
       " '../Downloads/URDU-Dataset-master/Happy/SM18_F2_H050.wav',\n",
       " '../Downloads/URDU-Dataset-master/Happy/SF5_F1_H021.wav',\n",
       " '../Downloads/URDU-Dataset-master/Happy/SM5_F1_H055.wav',\n",
       " '../Downloads/URDU-Dataset-master/Happy/SM19_F1_H051.wav',\n",
       " '../Downloads/Audio-Classification-master/Audio_data/angry/Recording (37).wav',\n",
       " '../Downloads/Audio-Classification-master/Audio_data/angry/Recording (6).wav',\n",
       " '../Downloads/Audio-Classification-master/Audio_data/angry/Recording (21).wav',\n",
       " '../Downloads/Audio-Classification-master/Audio_data/angry/Recording (17).wav',\n",
       " '../Downloads/Audio-Classification-master/Audio_data/angry/Recording (40).wav',\n",
       " '../Downloads/Audio-Classification-master/Audio_data/angry/Recording (41).wav',\n",
       " '../Downloads/Audio-Classification-master/Audio_data/angry/Recording (16).wav',\n",
       " '../Downloads/Audio-Classification-master/Audio_data/angry/Recording (20).wav',\n",
       " '../Downloads/Audio-Classification-master/Audio_data/angry/Recording (7).wav',\n",
       " '../Downloads/Audio-Classification-master/Audio_data/angry/Recording (36).wav',\n",
       " '../Downloads/Audio-Classification-master/Audio_data/angry/Recording (50).wav',\n",
       " '../Downloads/Audio-Classification-master/Audio_data/angry/Recording (11).wav',\n",
       " '../Downloads/Audio-Classification-master/Audio_data/angry/Recording (46).wav',\n",
       " '../Downloads/Audio-Classification-master/Audio_data/angry/Recording (31).wav',\n",
       " '../Downloads/Audio-Classification-master/Audio_data/angry/Recording (27).wav',\n",
       " '../Downloads/Audio-Classification-master/Audio_data/angry/Recording (26).wav',\n",
       " '../Downloads/Audio-Classification-master/Audio_data/angry/Recording (30).wav',\n",
       " '../Downloads/Audio-Classification-master/Audio_data/angry/Recording (47).wav',\n",
       " '../Downloads/Audio-Classification-master/Audio_data/angry/Recording (10).wav',\n",
       " '../Downloads/Audio-Classification-master/Audio_data/angry/Recording (51).wav',\n",
       " '../Downloads/Audio-Classification-master/Audio_data/angry/Recording (29).wav',\n",
       " '../Downloads/Audio-Classification-master/Audio_data/angry/Recording (44).wav',\n",
       " '../Downloads/Audio-Classification-master/Audio_data/angry/Recording (13).wav',\n",
       " '../Downloads/Audio-Classification-master/Audio_data/angry/Recording (25).wav',\n",
       " '../Downloads/Audio-Classification-master/Audio_data/angry/Recording (2).wav',\n",
       " '../Downloads/Audio-Classification-master/Audio_data/angry/Recording (33).wav',\n",
       " '../Downloads/Audio-Classification-master/Audio_data/angry/Recording (48).wav',\n",
       " '../Downloads/Audio-Classification-master/Audio_data/angry/Recording (49).wav',\n",
       " '../Downloads/Audio-Classification-master/Audio_data/angry/Recording (32).wav',\n",
       " '../Downloads/Audio-Classification-master/Audio_data/angry/Recording (3).wav',\n",
       " '../Downloads/Audio-Classification-master/Audio_data/angry/Recording (24).wav',\n",
       " '../Downloads/Audio-Classification-master/Audio_data/angry/Recording (12).wav',\n",
       " '../Downloads/Audio-Classification-master/Audio_data/angry/Recording (45).wav',\n",
       " '../Downloads/Audio-Classification-master/Audio_data/angry/Recording (28).wav',\n",
       " '../Downloads/Audio-Classification-master/Audio_data/angry/Recording (23).wav',\n",
       " '../Downloads/Audio-Classification-master/Audio_data/angry/Recording (4).wav',\n",
       " '../Downloads/Audio-Classification-master/Audio_data/angry/Recording (35).wav',\n",
       " '../Downloads/Audio-Classification-master/Audio_data/angry/Recording (19).wav',\n",
       " '../Downloads/Audio-Classification-master/Audio_data/angry/Recording (8).wav',\n",
       " '../Downloads/Audio-Classification-master/Audio_data/angry/Recording (39).wav',\n",
       " '../Downloads/Audio-Classification-master/Audio_data/angry/Recording (42).wav',\n",
       " '../Downloads/Audio-Classification-master/Audio_data/angry/Recording (15).wav',\n",
       " '../Downloads/Audio-Classification-master/Audio_data/angry/Recording (14).wav',\n",
       " '../Downloads/Audio-Classification-master/Audio_data/angry/Recording (43).wav',\n",
       " '../Downloads/Audio-Classification-master/Audio_data/angry/Recording (38).wav',\n",
       " '../Downloads/Audio-Classification-master/Audio_data/angry/Recording (9).wav',\n",
       " '../Downloads/Audio-Classification-master/Audio_data/angry/Recording (18).wav',\n",
       " '../Downloads/Audio-Classification-master/Audio_data/angry/Recording (34).wav',\n",
       " '../Downloads/Audio-Classification-master/Audio_data/angry/Recording (5).wav',\n",
       " '../Downloads/Audio-Classification-master/Audio_data/angry/Recording (22).wav',\n",
       " '../Downloads/URDU-Dataset-master/Angry/SM4_F41_A093.wav',\n",
       " '../Downloads/URDU-Dataset-master/Angry/SM4_F3_A055.wav',\n",
       " '../Downloads/URDU-Dataset-master/Angry/SM4_F11_A063.wav',\n",
       " '../Downloads/URDU-Dataset-master/Angry/SM2_F7_A029.wav',\n",
       " '../Downloads/URDU-Dataset-master/Angry/SM2_F6_A028.wav',\n",
       " '../Downloads/URDU-Dataset-master/Angry/SM4_F10_A062.wav',\n",
       " '../Downloads/URDU-Dataset-master/Angry/SM4_F2_A054.wav',\n",
       " '../Downloads/URDU-Dataset-master/Angry/SM1_F22_A022.wav',\n",
       " '../Downloads/URDU-Dataset-master/Angry/SM4_F40_A092.wav',\n",
       " '../Downloads/URDU-Dataset-master/Angry/SM2_F12_A034.wav',\n",
       " '../Downloads/URDU-Dataset-master/Angry/SM4_F24_A076.wav',\n",
       " '../Downloads/URDU-Dataset-master/Angry/SM4_F25_A077.wav',\n",
       " '../Downloads/URDU-Dataset-master/Angry/SM2_F13_A035.wav',\n",
       " '../Downloads/URDU-Dataset-master/Angry/SM2_F20_A042.wav',\n",
       " '../Downloads/URDU-Dataset-master/Angry/SM4_F7_A059.wav',\n",
       " '../Downloads/URDU-Dataset-master/Angry/SM2_F3_A025.wav',\n",
       " '../Downloads/URDU-Dataset-master/Angry/SM4_F48_A0100.wav',\n",
       " '../Downloads/URDU-Dataset-master/Angry/SM2_F2_A024.wav',\n",
       " '../Downloads/URDU-Dataset-master/Angry/SM4_F6_A058.wav',\n",
       " '../Downloads/URDU-Dataset-master/Angry/SM2_F21_A043.wav',\n",
       " '../Downloads/URDU-Dataset-master/Angry/SM1_F12_A012.wav',\n",
       " '../Downloads/URDU-Dataset-master/Angry/SM2_F16_A038.wav',\n",
       " '../Downloads/URDU-Dataset-master/Angry/SM2_F9_A031.wav',\n",
       " '../Downloads/URDU-Dataset-master/Angry/SM1_F1_A01.wav',\n",
       " '../Downloads/URDU-Dataset-master/Angry/SM2_F8_A030.wav',\n",
       " '../Downloads/URDU-Dataset-master/Angry/SM1_F13_A013.wav',\n",
       " '../Downloads/URDU-Dataset-master/Angry/SM2_F17_A039.wav',\n",
       " '../Downloads/URDU-Dataset-master/Angry/SM1_F3_A03.wav',\n",
       " '../Downloads/URDU-Dataset-master/Angry/SM4_F27_A079.wav',\n",
       " '../Downloads/URDU-Dataset-master/Angry/SM4_F26_A078.wav',\n",
       " '../Downloads/URDU-Dataset-master/Angry/SM4_F31_A083.wav',\n",
       " '../Downloads/URDU-Dataset-master/Angry/SM2_F4_A026.wav',\n",
       " '../Downloads/URDU-Dataset-master/Angry/SM2_F18_A040.wav',\n",
       " '../Downloads/URDU-Dataset-master/Angry/SM2_F5_A027.wav',\n",
       " '../Downloads/URDU-Dataset-master/Angry/SM2_F19_A041.wav',\n",
       " '../Downloads/URDU-Dataset-master/Angry/SM4_F30_A082.wav',\n",
       " '../Downloads/URDU-Dataset-master/Angry/SM2_F15_A037.wav',\n",
       " '../Downloads/URDU-Dataset-master/Angry/SM4_F23_A075.wav',\n",
       " '../Downloads/URDU-Dataset-master/Angry/SM4_F22_A074.wav',\n",
       " '../Downloads/URDU-Dataset-master/Angry/SM2_F14_A036.wav',\n",
       " '../Downloads/URDU-Dataset-master/Angry/SM1_F14_A014.wav',\n",
       " '../Downloads/URDU-Dataset-master/Angry/SM4_F4_A056.wav',\n",
       " '../Downloads/URDU-Dataset-master/Angry/SM4_F5_A057.wav',\n",
       " '../Downloads/URDU-Dataset-master/Angry/SM3_F1_A051.wav',\n",
       " '../Downloads/URDU-Dataset-master/Angry/SM1_F15_A015.wav',\n",
       " '../Downloads/URDU-Dataset-master/Angry/SM1_F2_A02.wav',\n",
       " '../Downloads/URDU-Dataset-master/Angry/SM4_F19_A071.wav',\n",
       " '../Downloads/URDU-Dataset-master/Angry/SM2_F10_A032.wav',\n",
       " '../Downloads/URDU-Dataset-master/Angry/SM1_F6_A06.wav',\n",
       " '../Downloads/URDU-Dataset-master/Angry/SM2_F11_A033.wav',\n",
       " '../Downloads/URDU-Dataset-master/Angry/SM4_F18_A070.wav',\n",
       " '../Downloads/URDU-Dataset-master/Angry/SM4_F1_A053.wav',\n",
       " '../Downloads/URDU-Dataset-master/Angry/SM2_F26_A048.wav',\n",
       " '../Downloads/URDU-Dataset-master/Angry/SM4_F43_A095.wav',\n",
       " '../Downloads/URDU-Dataset-master/Angry/SM1_F11_A011.wav',\n",
       " '../Downloads/URDU-Dataset-master/Angry/SM4_F13_A065.wav',\n",
       " '../Downloads/URDU-Dataset-master/Angry/SM4_F12_A064.wav',\n",
       " '../Downloads/URDU-Dataset-master/Angry/SM1_F10_A010.wav',\n",
       " '../Downloads/URDU-Dataset-master/Angry/SM4_F42_A094.wav',\n",
       " '../Downloads/URDU-Dataset-master/Angry/SM2_F27_A049.wav',\n",
       " '../Downloads/URDU-Dataset-master/Angry/SM1_F20_A020.wav',\n",
       " '../Downloads/URDU-Dataset-master/Angry/SM4_F28_A080.wav',\n",
       " '../Downloads/URDU-Dataset-master/Angry/SM2_F28_A050.wav',\n",
       " '../Downloads/URDU-Dataset-master/Angry/SM4_F29_A081.wav',\n",
       " '../Downloads/URDU-Dataset-master/Angry/SM1_F21_A021.wav',\n",
       " '../Downloads/URDU-Dataset-master/Angry/SM4_F47_A099.wav',\n",
       " '../Downloads/URDU-Dataset-master/Angry/SM4_F34_A086.wav',\n",
       " '../Downloads/URDU-Dataset-master/Angry/SM2_F22_A044.wav',\n",
       " '../Downloads/URDU-Dataset-master/Angry/SM4_F17_A069.wav',\n",
       " '../Downloads/URDU-Dataset-master/Angry/SM2_F1_A023.wav',\n",
       " '../Downloads/URDU-Dataset-master/Angry/SM1_F7_A07.wav',\n",
       " '../Downloads/URDU-Dataset-master/Angry/SM4_F16_A068.wav',\n",
       " '../Downloads/URDU-Dataset-master/Angry/SM2_F23_A045.wav',\n",
       " '../Downloads/URDU-Dataset-master/Angry/SM4_F46_A098.wav',\n",
       " '../Downloads/URDU-Dataset-master/Angry/SM4_F35_A087.wav',\n",
       " '../Downloads/URDU-Dataset-master/Angry/SM4_F33_A085.wav',\n",
       " '../Downloads/URDU-Dataset-master/Angry/SM2_F25_A047.wav',\n",
       " '../Downloads/URDU-Dataset-master/Angry/SM1_F5_A05.wav',\n",
       " '../Downloads/URDU-Dataset-master/Angry/SM2_F24_A046.wav',\n",
       " '../Downloads/URDU-Dataset-master/Angry/SM4_F32_A084.wav',\n",
       " '../Downloads/URDU-Dataset-master/Angry/SM1_F9_A09.wav',\n",
       " '../Downloads/URDU-Dataset-master/Angry/SM1_F17_A017.wav',\n",
       " '../Downloads/URDU-Dataset-master/Angry/SM4_F8_A060.wav',\n",
       " '../Downloads/URDU-Dataset-master/Angry/SM4_F39_A091.wav',\n",
       " '../Downloads/URDU-Dataset-master/Angry/SM4_F38_A090.wav',\n",
       " '../Downloads/URDU-Dataset-master/Angry/SM4_F9_A061.wav',\n",
       " '../Downloads/URDU-Dataset-master/Angry/SM1_F16_A016.wav',\n",
       " '../Downloads/URDU-Dataset-master/Angry/SM3_F2_A052.wav',\n",
       " '../Downloads/URDU-Dataset-master/Angry/SM4_F44_A096.wav',\n",
       " '../Downloads/URDU-Dataset-master/Angry/SM4_F37_A089.wav',\n",
       " '../Downloads/URDU-Dataset-master/Angry/SM4_F14_A066.wav',\n",
       " '../Downloads/URDU-Dataset-master/Angry/SM4_F15_A067.wav',\n",
       " '../Downloads/URDU-Dataset-master/Angry/SM4_F45_A097.wav',\n",
       " '../Downloads/URDU-Dataset-master/Angry/SM4_F36_A088.wav',\n",
       " '../Downloads/URDU-Dataset-master/Angry/SM1_F8_A08.wav',\n",
       " '../Downloads/URDU-Dataset-master/Angry/SM1_F4_A04.wav',\n",
       " '../Downloads/URDU-Dataset-master/Angry/SM4_F21_A073.wav',\n",
       " '../Downloads/URDU-Dataset-master/Angry/SM1_F18_A018.wav',\n",
       " '../Downloads/URDU-Dataset-master/Angry/SM1_F19_A019.wav',\n",
       " '../Downloads/URDU-Dataset-master/Angry/SM4_F20_A072.wav',\n",
       " '../Downloads/Audio-Classification-master/Audio_data/neutral/40Label.wav',\n",
       " '../Downloads/Audio-Classification-master/Audio_data/neutral/41Label.wav',\n",
       " '../Downloads/Audio-Classification-master/Audio_data/neutral/09Label.wav',\n",
       " '../Downloads/Audio-Classification-master/Audio_data/neutral/08Label.wav',\n",
       " '../Downloads/Audio-Classification-master/Audio_data/neutral/37Label.wav',\n",
       " '../Downloads/Audio-Classification-master/Audio_data/neutral/36Label.wav',\n",
       " '../Downloads/Audio-Classification-master/Audio_data/neutral/03Label.wav',\n",
       " '../Downloads/Audio-Classification-master/Audio_data/neutral/02Label.wav',\n",
       " '../Downloads/Audio-Classification-master/Audio_data/neutral/57Label.wav',\n",
       " '../Downloads/Audio-Classification-master/Audio_data/neutral/56Label.wav',\n",
       " '../Downloads/Audio-Classification-master/Audio_data/neutral/20Label.wav',\n",
       " '../Downloads/Audio-Classification-master/Audio_data/neutral/21Label.wav',\n",
       " '../Downloads/Audio-Classification-master/Audio_data/neutral/14Label.wav',\n",
       " '../Downloads/Audio-Classification-master/Audio_data/neutral/15Label.wav',\n",
       " '../Downloads/Audio-Classification-master/Audio_data/neutral/19Label.wav',\n",
       " '../Downloads/Audio-Classification-master/Audio_data/neutral/18Label.wav',\n",
       " '../Downloads/Audio-Classification-master/Audio_data/neutral/50Label.wav',\n",
       " '../Downloads/Audio-Classification-master/Audio_data/neutral/51Label.wav',\n",
       " '../Downloads/Audio-Classification-master/Audio_data/neutral/27Label.wav',\n",
       " '../Downloads/Audio-Classification-master/Audio_data/neutral/26Label.wav',\n",
       " '../Downloads/Audio-Classification-master/Audio_data/neutral/13Label.wav',\n",
       " '../Downloads/Audio-Classification-master/Audio_data/neutral/12Label.wav',\n",
       " '../Downloads/Audio-Classification-master/Audio_data/neutral/47Label.wav',\n",
       " '../Downloads/Audio-Classification-master/Audio_data/neutral/46Label.wav',\n",
       " '../Downloads/Audio-Classification-master/Audio_data/neutral/30Label.wav',\n",
       " '../Downloads/Audio-Classification-master/Audio_data/neutral/31Label.wav',\n",
       " '../Downloads/Audio-Classification-master/Audio_data/neutral/04Label.wav',\n",
       " '../Downloads/Audio-Classification-master/Audio_data/neutral/05Label.wav',\n",
       " '../Downloads/Audio-Classification-master/Audio_data/neutral/17Label.wav',\n",
       " '../Downloads/Audio-Classification-master/Audio_data/neutral/16Label.wav',\n",
       " '../Downloads/Audio-Classification-master/Audio_data/neutral/60Label.wav',\n",
       " '../Downloads/Audio-Classification-master/Audio_data/neutral/29Label.wav',\n",
       " '../Downloads/Audio-Classification-master/Audio_data/neutral/28Label.wav',\n",
       " '../Downloads/Audio-Classification-master/Audio_data/neutral/54Label.wav',\n",
       " '../Downloads/Audio-Classification-master/Audio_data/neutral/55Label.wav',\n",
       " '../Downloads/Audio-Classification-master/Audio_data/neutral/23Label.wav',\n",
       " '../Downloads/Audio-Classification-master/Audio_data/neutral/22Label.wav',\n",
       " '../Downloads/Audio-Classification-master/Audio_data/neutral/01Label.wav',\n",
       " '../Downloads/Audio-Classification-master/Audio_data/neutral/49Label.wav',\n",
       " '../Downloads/Audio-Classification-master/Audio_data/neutral/48Label.wav',\n",
       " '../Downloads/Audio-Classification-master/Audio_data/neutral/43Label.wav',\n",
       " '../Downloads/Audio-Classification-master/Audio_data/neutral/42Label.wav',\n",
       " '../Downloads/Audio-Classification-master/Audio_data/neutral/34Label.wav',\n",
       " '../Downloads/Audio-Classification-master/Audio_data/neutral/35Label.wav',\n",
       " '../Downloads/Audio-Classification-master/Audio_data/neutral/07Label.wav',\n",
       " '../Downloads/Audio-Classification-master/Audio_data/neutral/06Label.wav',\n",
       " '../Downloads/Audio-Classification-master/Audio_data/neutral/39Label.wav',\n",
       " '../Downloads/Audio-Classification-master/Audio_data/neutral/38Label.wav',\n",
       " '../Downloads/Audio-Classification-master/Audio_data/neutral/44Label.wav',\n",
       " '../Downloads/Audio-Classification-master/Audio_data/neutral/45Label.wav',\n",
       " '../Downloads/Audio-Classification-master/Audio_data/neutral/33Label.wav',\n",
       " '../Downloads/Audio-Classification-master/Audio_data/neutral/32Label.wav',\n",
       " '../Downloads/Audio-Classification-master/Audio_data/neutral/59Label.wav',\n",
       " '../Downloads/Audio-Classification-master/Audio_data/neutral/58Label.wav',\n",
       " '../Downloads/Audio-Classification-master/Audio_data/neutral/10Label.wav',\n",
       " '../Downloads/Audio-Classification-master/Audio_data/neutral/11Label.wav',\n",
       " '../Downloads/Audio-Classification-master/Audio_data/neutral/53Label.wav',\n",
       " '../Downloads/Audio-Classification-master/Audio_data/neutral/52Label.wav',\n",
       " '../Downloads/Audio-Classification-master/Audio_data/neutral/24Label.wav',\n",
       " '../Downloads/Audio-Classification-master/Audio_data/neutral/25Label.wav',\n",
       " '../Downloads/URDU-Dataset-master/Neutral/SF9_F3_N03.wav',\n",
       " '../Downloads/URDU-Dataset-master/Neutral/SM5_F5_N033.wav',\n",
       " '../Downloads/URDU-Dataset-master/Neutral/SM5_F16_N044.wav',\n",
       " '../Downloads/URDU-Dataset-master/Neutral/SM5_F17_N045.wav',\n",
       " '../Downloads/URDU-Dataset-master/Neutral/SM5_F4_N032.wav',\n",
       " '../Downloads/URDU-Dataset-master/Neutral/SM5_F46_N074.wav',\n",
       " '../Downloads/URDU-Dataset-master/Neutral/SM3_F3_N023.wav',\n",
       " '../Downloads/URDU-Dataset-master/Neutral/SM5_F23_N051.wav',\n",
       " '../Downloads/URDU-Dataset-master/Neutral/SM5_F22_N050.wav',\n",
       " '../Downloads/URDU-Dataset-master/Neutral/SM3_F2_N022.wav',\n",
       " '../Downloads/URDU-Dataset-master/Neutral/SM5_F47_N075.wav',\n",
       " '../Downloads/URDU-Dataset-master/Neutral/SM5_F30_N058.wav',\n",
       " '../Downloads/URDU-Dataset-master/Neutral/SM5_F29_N057.wav',\n",
       " '../Downloads/URDU-Dataset-master/Neutral/SM5_F54_N082.wav',\n",
       " '../Downloads/URDU-Dataset-master/Neutral/SM5_F55_N083.wav',\n",
       " '../Downloads/URDU-Dataset-master/Neutral/SM5_F28_N056.wav',\n",
       " '../Downloads/URDU-Dataset-master/Neutral/SM5_F31_N059.wav',\n",
       " '../Downloads/URDU-Dataset-master/Neutral/SF9_F2_N02.wav',\n",
       " '../Downloads/URDU-Dataset-master/Neutral/SM5_F1_N029.wav',\n",
       " '../Downloads/URDU-Dataset-master/Neutral/SM5_F36_N064.wav',\n",
       " '../Downloads/URDU-Dataset-master/Neutral/SM5_F66_N094.wav',\n",
       " '../Downloads/URDU-Dataset-master/Neutral/SM5_F8_N036.wav',\n",
       " '../Downloads/URDU-Dataset-master/Neutral/SM5_F9_N037.wav',\n",
       " '../Downloads/URDU-Dataset-master/Neutral/SM5_F67_N095.wav',\n",
       " '../Downloads/URDU-Dataset-master/Neutral/SM21_F4_N018.wav',\n",
       " '../Downloads/URDU-Dataset-master/Neutral/SM5_F37_N065.wav',\n",
       " '../Downloads/URDU-Dataset-master/Neutral/SM20_F8_N012.wav',\n",
       " '../Downloads/URDU-Dataset-master/Neutral/SM5_F21_N049.wav',\n",
       " '../Downloads/URDU-Dataset-master/Neutral/SM5_F53_N081.wav',\n",
       " '../Downloads/URDU-Dataset-master/Neutral/SM3_F5_N025.wav',\n",
       " '../Downloads/URDU-Dataset-master/Neutral/SM3_F4_N024.wav',\n",
       " '../Downloads/URDU-Dataset-master/Neutral/SM5_F52_N080.wav',\n",
       " '../Downloads/URDU-Dataset-master/Neutral/SM5_F20_N048.wav',\n",
       " '../Downloads/URDU-Dataset-master/Neutral/SM20_F9_N013.wav',\n",
       " '../Downloads/URDU-Dataset-master/Neutral/SM21_F1_N015.wav',\n",
       " '../Downloads/URDU-Dataset-master/Neutral/SM5_F59_N087.wav',\n",
       " '../Downloads/URDU-Dataset-master/Neutral/SM5_F24_N052.wav',\n",
       " '../Downloads/URDU-Dataset-master/Neutral/SM5_F25_N053.wav',\n",
       " '../Downloads/URDU-Dataset-master/Neutral/SM22_F2_N020.wav',\n",
       " '../Downloads/URDU-Dataset-master/Neutral/SM5_F58_N086.wav',\n",
       " '../Downloads/URDU-Dataset-master/Neutral/SM5_F2_N030.wav',\n",
       " '../Downloads/URDU-Dataset-master/Neutral/SF9_F1_N01.wav',\n",
       " '../Downloads/URDU-Dataset-master/Neutral/SM5_F3_N031.wav',\n",
       " '../Downloads/URDU-Dataset-master/Neutral/SM5_F44_N072.wav',\n",
       " '../Downloads/URDU-Dataset-master/Neutral/SM20_F7_N011.wav',\n",
       " '../Downloads/URDU-Dataset-master/Neutral/SM20_F6_N010.wav',\n",
       " '../Downloads/URDU-Dataset-master/Neutral/SM5_F45_N073.wav',\n",
       " '../Downloads/URDU-Dataset-master/Neutral/SM5_F69_N097.wav',\n",
       " '../Downloads/URDU-Dataset-master/Neutral/SM5_F7_N035.wav',\n",
       " '../Downloads/URDU-Dataset-master/Neutral/SM5_F70_N098.wav',\n",
       " '../Downloads/URDU-Dataset-master/Neutral/SM20_F4_N08.wav',\n",
       " '../Downloads/URDU-Dataset-master/Neutral/SM20_F1_N05.wav',\n",
       " '../Downloads/URDU-Dataset-master/Neutral/SM5_F14_N042.wav',\n",
       " '../Downloads/URDU-Dataset-master/Neutral/SM5_F39_N067.wav',\n",
       " '../Downloads/URDU-Dataset-master/Neutral/SM5_F38_N066.wav',\n",
       " '../Downloads/URDU-Dataset-master/Neutral/SM5_F15_N043.wav',\n",
       " '../Downloads/URDU-Dataset-master/Neutral/SM5_F71_N099.wav',\n",
       " '../Downloads/URDU-Dataset-master/Neutral/SM5_F6_N034.wav',\n",
       " '../Downloads/URDU-Dataset-master/Neutral/SM5_F68_N096.wav',\n",
       " '../Downloads/URDU-Dataset-master/Neutral/SM5_F33_N061.wav',\n",
       " '../Downloads/URDU-Dataset-master/Neutral/SM5_F63_N091.wav',\n",
       " '../Downloads/URDU-Dataset-master/Neutral/SM5_F62_N090.wav',\n",
       " '../Downloads/URDU-Dataset-master/Neutral/SM20_F5_N09.wav',\n",
       " '../Downloads/URDU-Dataset-master/Neutral/SM5_F32_N060.wav',\n",
       " '../Downloads/URDU-Dataset-master/Neutral/SF9_F4_N04.wav',\n",
       " '../Downloads/URDU-Dataset-master/Neutral/SM5_F41_N069.wav',\n",
       " '../Downloads/URDU-Dataset-master/Neutral/SM5_F56_N084.wav',\n",
       " '../Downloads/URDU-Dataset-master/Neutral/SM5_F57_N085.wav',\n",
       " '../Downloads/URDU-Dataset-master/Neutral/SM3_F1_N021.wav',\n",
       " '../Downloads/URDU-Dataset-master/Neutral/SM20_F10_N014.wav',\n",
       " '../Downloads/URDU-Dataset-master/Neutral/SM5_F40_N068.wav',\n",
       " '../Downloads/URDU-Dataset-master/Neutral/SM21_F2_N016.wav',\n",
       " '../Downloads/URDU-Dataset-master/Neutral/SM5_F50_N078.wav',\n",
       " '../Downloads/URDU-Dataset-master/Neutral/SM5_F49_N077.wav',\n",
       " '../Downloads/URDU-Dataset-master/Neutral/SM5_F48_N076.wav',\n",
       " '../Downloads/URDU-Dataset-master/Neutral/SM5_F51_N079.wav',\n",
       " '../Downloads/URDU-Dataset-master/Neutral/SM21_F3_N017.wav',\n",
       " '../Downloads/URDU-Dataset-master/Neutral/SM5_F19_N047.wav',\n",
       " '../Downloads/URDU-Dataset-master/Neutral/SM20_F2_N06.wav',\n",
       " '../Downloads/URDU-Dataset-master/Neutral/SM5_F34_N062.wav',\n",
       " '../Downloads/URDU-Dataset-master/Neutral/SM5_F64_N092.wav',\n",
       " '../Downloads/URDU-Dataset-master/Neutral/SM5_F65_N093.wav',\n",
       " '../Downloads/URDU-Dataset-master/Neutral/SM3_F8_N028.wav',\n",
       " '../Downloads/URDU-Dataset-master/Neutral/SM5_F35_N063.wav',\n",
       " '../Downloads/URDU-Dataset-master/Neutral/SM5_F18_N046.wav',\n",
       " '../Downloads/URDU-Dataset-master/Neutral/SM5_F61_N089.wav',\n",
       " '../Downloads/URDU-Dataset-master/Neutral/SM5_F13_N041.wav',\n",
       " '../Downloads/URDU-Dataset-master/Neutral/SM5_F12_N040.wav',\n",
       " '../Downloads/URDU-Dataset-master/Neutral/SM5_F60_N088.wav',\n",
       " '../Downloads/URDU-Dataset-master/Neutral/SM22_F1_N019.wav',\n",
       " '../Downloads/URDU-Dataset-master/Neutral/SM5_F72_N0100.wav',\n",
       " '../Downloads/URDU-Dataset-master/Neutral/SM20_F3_N07.wav',\n",
       " '../Downloads/URDU-Dataset-master/Neutral/SM5_F43_N071.wav',\n",
       " '../Downloads/URDU-Dataset-master/Neutral/SM5_F11_N039.wav',\n",
       " '../Downloads/URDU-Dataset-master/Neutral/SM5_F26_N054.wav',\n",
       " '../Downloads/URDU-Dataset-master/Neutral/SM3_F6_N026.wav',\n",
       " '../Downloads/URDU-Dataset-master/Neutral/SM3_F7_N027.wav',\n",
       " '../Downloads/URDU-Dataset-master/Neutral/SM5_F10_N038.wav',\n",
       " '../Downloads/URDU-Dataset-master/Neutral/SM5_F27_N055.wav',\n",
       " '../Downloads/URDU-Dataset-master/Neutral/SM5_F42_N070.wav']"
      ]
     },
     "execution_count": 341,
     "metadata": {},
     "output_type": "execute_result"
    }
   ],
   "source": [
    "paths"
   ]
  },
  {
   "cell_type": "code",
   "execution_count": 6,
   "id": "ac3a76f7",
   "metadata": {},
   "outputs": [
    {
     "data": {
      "image/png": "[encoded data removed]",
      "text/plain": [
       "<Figure size 432x288 with 1 Axes>"
      ]
     },
     "metadata": {
      "needs_background": "light"
     },
     "output_type": "display_data"
    }
   ],
   "source": [
    "\n",
    "y_angry = librosa.load(angry[0])\n",
    "y_angry_time = librosa.frames_to_time(y_angry[0])\n",
    "plt.plot(y_angry_time)\n",
    "plt.xlabel('time -->')\n",
    "plt.ylabel('Amplitude -->')\n",
    "plt.title('Waveform for angry audio')\n",
    "plt.show()"
   ]
  },
  {
   "cell_type": "code",
   "execution_count": 7,
   "id": "fb96c932",
   "metadata": {},
   "outputs": [
    {
     "data": {
      "image/png": "[encoded data removed]",
      "text/plain": [
       "<Figure size 432x288 with 2 Axes>"
      ]
     },
     "metadata": {
      "needs_background": "light"
     },
     "output_type": "display_data"
    }
   ],
   "source": [
    "spec_angry = librosa.feature.mfcc(y_angry_time)\n",
    "spec_angry = librosa.amplitude_to_db(spec_angry)\n",
    "\n",
    "librosa.display.specshow(spec_angry, x_axis='time', y_axis='mel')\n",
    "\n",
    "\n",
    "plt.title('mel power spectrogram')\n",
    "\n",
    "\n",
    "plt.colorbar(format='%+02.0f dB')\n",
    "\n",
    "plt.tight_layout()\n"
   ]
  },
  {
   "cell_type": "code",
   "execution_count": null,
   "id": "86524a0c",
   "metadata": {
    "scrolled": true
   },
   "outputs": [],
   "source": []
  },
  {
   "cell_type": "code",
   "execution_count": null,
   "id": "809e9cb5",
   "metadata": {},
   "outputs": [],
   "source": []
  },
  {
   "cell_type": "code",
   "execution_count": 8,
   "id": "17e4772c",
   "metadata": {},
   "outputs": [
    {
     "data": {
      "image/png": "[encoded data removed]",
      "text/plain": [
       "<Figure size 432x288 with 2 Axes>"
      ]
     },
     "metadata": {
      "needs_background": "light"
     },
     "output_type": "display_data"
    }
   ],
   "source": [
    "spec_angry = librosa.feature.chroma_stft(y_angry_time)\n",
    "spec_angry = librosa.amplitude_to_db(spec_angry)\n",
    "librosa.display.specshow(spec_angry, y_axis='chroma', x_axis='time')\n",
    "plt.title('Chromogram')\n",
    "\n",
    "\n",
    "plt.colorbar(format='%+02.0f dB')\n",
    "\n",
    "plt.tight_layout()"
   ]
  },
  {
   "cell_type": "code",
   "execution_count": null,
   "id": "0782075c",
   "metadata": {},
   "outputs": [],
   "source": []
  },
  {
   "cell_type": "code",
   "execution_count": 9,
   "id": "a7a22f49",
   "metadata": {},
   "outputs": [
    {
     "data": {
      "image/png": "[encoded data removed]",
      "text/plain": [
       "<Figure size 432x288 with 1 Axes>"
      ]
     },
     "metadata": {
      "needs_background": "light"
     },
     "output_type": "display_data"
    }
   ],
   "source": [
    "#neutral\n",
    "y_neutral,sr = librosa.load(neutral[10])\n",
    "y_neutral_time = librosa.frames_to_time(y_neutral)\n",
    "plt.plot(y_neutral_time)\n",
    "plt.xlabel('time -->')\n",
    "plt.ylabel('Amplitude -->')\n",
    "plt.title('Waveform for neutral audio')\n",
    "plt.show()"
   ]
  },
  {
   "cell_type": "code",
   "execution_count": 10,
   "id": "8b6731d6",
   "metadata": {
    "scrolled": true
   },
   "outputs": [
    {
     "data": {
      "image/png": "[encoded data removed]",
      "text/plain": [
       "<Figure size 432x288 with 2 Axes>"
      ]
     },
     "metadata": {
      "needs_background": "light"
     },
     "output_type": "display_data"
    }
   ],
   "source": [
    "spec_neutral = librosa.feature.mfcc(y_neutral_time)\n",
    "spec_neutral = librosa.amplitude_to_db(spec_neutral)\n",
    "librosa.display.specshow(spec_neutral, sr=sr, x_axis='time', y_axis='mel')\n",
    "\n",
    "\n",
    "plt.title('mel power spectrogram')\n",
    "\n",
    "\n",
    "plt.colorbar(format='%+02.0f dB')\n",
    "\n",
    "plt.tight_layout()"
   ]
  },
  {
   "cell_type": "code",
   "execution_count": null,
   "id": "393e045d",
   "metadata": {},
   "outputs": [],
   "source": []
  },
  {
   "cell_type": "code",
   "execution_count": 11,
   "id": "bd0a598b",
   "metadata": {},
   "outputs": [
    {
     "data": {
      "image/png": "[encoded data removed]",
      "text/plain": [
       "<Figure size 432x288 with 2 Axes>"
      ]
     },
     "metadata": {
      "needs_background": "light"
     },
     "output_type": "display_data"
    }
   ],
   "source": [
    "spec_neutral = librosa.feature.chroma_stft(y_neutral)\n",
    "spec_neutral = librosa.amplitude_to_db(spec_neutral)\n",
    "librosa.display.specshow(spec_neutral, y_axis='chroma', x_axis='time')\n",
    "plt.title('Chromogram')\n",
    "\n",
    "\n",
    "plt.colorbar(format='%+02.0f dB')\n",
    "\n",
    "plt.tight_layout()"
   ]
  },
  {
   "cell_type": "code",
   "execution_count": 338,
   "id": "b364b619",
   "metadata": {},
   "outputs": [
    {
     "data": {
      "image/png": "[encoded data removed]",
      "text/plain": [
       "<Figure size 432x288 with 1 Axes>"
      ]
     },
     "metadata": {
      "needs_background": "light"
     },
     "output_type": "display_data"
    }
   ],
   "source": [
    "y_positive,sr = librosa.load(positive[0])\n",
    "y_pos_time = librosa.frames_to_time(y_sad)\n",
    "plt.plot(y_pos_time)\n",
    "plt.xlabel('time -->')\n",
    "plt.ylabel('Amplitude -->')\n",
    "plt.title('Waveform for positive audio')\n",
    "plt.show()"
   ]
  },
  {
   "cell_type": "code",
   "execution_count": 339,
   "id": "a3daa29d",
   "metadata": {},
   "outputs": [
    {
     "data": {
      "image/png": "[encoded data removed]",
      "text/plain": [
       "<Figure size 432x288 with 2 Axes>"
      ]
     },
     "metadata": {
      "needs_background": "light"
     },
     "output_type": "display_data"
    }
   ],
   "source": [
    "spec_pos = librosa.feature.mfcc(y_pos_time)\n",
    "spec_pos = librosa.amplitude_to_db(spec_pos)\n",
    "librosa.display.specshow(spec_pos, sr=sr, x_axis='time', y_axis='mel')\n",
    "\n",
    "plt.title('mel power spectrogram')\n",
    "\n",
    "plt.colorbar(format='%+02.0f dB')\n",
    "\n",
    "plt.tight_layout()"
   ]
  },
  {
   "cell_type": "code",
   "execution_count": 340,
   "id": "c30aec87",
   "metadata": {},
   "outputs": [
    {
     "data": {
      "image/png": "[encoded data removed]",
      "text/plain": [
       "<Figure size 432x288 with 2 Axes>"
      ]
     },
     "metadata": {
      "needs_background": "light"
     },
     "output_type": "display_data"
    }
   ],
   "source": [
    "spec_pos = librosa.feature.chroma_stft(y_pos_time)\n",
    "spec_pos = librosa.amplitude_to_db(spec_pos)\n",
    "librosa.display.specshow(spec_pos, y_axis='chroma', x_axis='time')\n",
    "plt.title('Chromogram')\n",
    "\n",
    "\n",
    "plt.colorbar(format='%+02.0f dB')\n",
    "\n",
    "plt.tight_layout()"
   ]
  },
  {
   "cell_type": "code",
   "execution_count": null,
   "id": "05776319",
   "metadata": {},
   "outputs": [],
   "source": []
  },
  {
   "cell_type": "code",
   "execution_count": null,
   "id": "d3897a59",
   "metadata": {},
   "outputs": [],
   "source": []
  },
  {
   "cell_type": "code",
   "execution_count": null,
   "id": "85c12d6c",
   "metadata": {},
   "outputs": [],
   "source": []
  },
  {
   "cell_type": "code",
   "execution_count": 343,
   "id": "661346da",
   "metadata": {},
   "outputs": [],
   "source": [
    "emotions=[]\n",
    "for item in positive:\n",
    "    emotions.append(\"positive\")\n",
    "for item in negative:\n",
    "    emotions.append(\"negative\")\n",
    "for item in neutral:\n",
    "    emotions.append(\"neutral\")"
   ]
  },
  {
   "cell_type": "code",
   "execution_count": 344,
   "id": "6ddd0187",
   "metadata": {},
   "outputs": [
    {
     "data": {
      "text/plain": [
       "150"
      ]
     },
     "execution_count": 344,
     "metadata": {},
     "output_type": "execute_result"
    }
   ],
   "source": [
    "s_neg = 0\n",
    "for i in range(len(emotions)):\n",
    "    if(emotions[i]=='negative'):\n",
    "        s_neg+=1\n",
    "s_neg"
   ]
  },
  {
   "cell_type": "code",
   "execution_count": 345,
   "id": "1fa51ebb",
   "metadata": {},
   "outputs": [
    {
     "data": {
      "text/plain": [
       "160"
      ]
     },
     "execution_count": 345,
     "metadata": {},
     "output_type": "execute_result"
    }
   ],
   "source": [
    "s_neut = 0\n",
    "for i in range(len(emotions)):\n",
    "    if(emotions[i]=='neutral'):\n",
    "        s_neut+=1\n",
    "s_neut"
   ]
  },
  {
   "cell_type": "code",
   "execution_count": 346,
   "id": "91fbc347",
   "metadata": {},
   "outputs": [
    {
     "data": {
      "text/plain": [
       "100"
      ]
     },
     "execution_count": 346,
     "metadata": {},
     "output_type": "execute_result"
    }
   ],
   "source": [
    "s_pos = 0\n",
    "for i in range(len(emotions)):\n",
    "    if(emotions[i]=='positive'):\n",
    "        s_pos+=1\n",
    "s_pos"
   ]
  },
  {
   "cell_type": "code",
   "execution_count": 347,
   "id": "c887ca80",
   "metadata": {},
   "outputs": [
    {
     "data": {
      "text/plain": [
       "410"
      ]
     },
     "execution_count": 347,
     "metadata": {},
     "output_type": "execute_result"
    }
   ],
   "source": [
    "len(emotions)"
   ]
  },
  {
   "cell_type": "code",
   "execution_count": 348,
   "id": "87aae51c",
   "metadata": {},
   "outputs": [],
   "source": [
    "data = {'Positive':s_pos, 'Neutral':s_neut, 'Negative':s_neg}\n",
    "courses = list(data.keys())\n",
    "values = list(data.values())"
   ]
  },
  {
   "cell_type": "code",
   "execution_count": 349,
   "id": "8b71ccd6",
   "metadata": {},
   "outputs": [
    {
     "data": {
      "image/png": "[encoded data removed]",
      "text/plain": [
       "<Figure size 432x288 with 1 Axes>"
      ]
     },
     "metadata": {
      "needs_background": "light"
     },
     "output_type": "display_data"
    }
   ],
   "source": [
    "plt.bar(courses, values, color ='blue', width = 0.4)\n",
    "plt.ylabel('No. of audio files for each sentiment')\n",
    "plt.xlabel('Sentiments')\n",
    "plt.grid()\n",
    "plt.show()"
   ]
  },
  {
   "cell_type": "code",
   "execution_count": 350,
   "id": "5b766a23",
   "metadata": {},
   "outputs": [],
   "source": [
    "def load_file(filepath):\n",
    "    y,sr = librosa.load(filepath)\n",
    "    return (y,sr)"
   ]
  },
  {
   "cell_type": "code",
   "execution_count": 351,
   "id": "37d839ec",
   "metadata": {},
   "outputs": [],
   "source": [
    "def divide_segments(y_time,start):\n",
    "    # divide into 50 ms segments\n",
    "    # 50ms -> means 1111 samples    \n",
    "    y_segmented = y_time[start:start+1111]\n",
    "    return y_segmented"
   ]
  },
  {
   "cell_type": "code",
   "execution_count": 352,
   "id": "32c2bafd",
   "metadata": {},
   "outputs": [],
   "source": [
    "def stft(y_seg , sr, window, step):\n",
    "    [f,f_name] = sf.feature_extraction(y_seg,sr, window, step,  deltas = False)\n",
    "    return f"
   ]
  },
  {
   "cell_type": "code",
   "execution_count": 762,
   "id": "7e321942",
   "metadata": {},
   "outputs": [],
   "source": [
    "def feature_matricization(y_time):\n",
    "    y_seg = divide_segments(y_time,0)\n",
    "    y_stft = stft(y_seg,sr,0.05*sr,0.05*sr)\n",
    "    y_stft = y_stft.reshape(34)\n",
    "    \n",
    "    start = 1111\n",
    "    y_stfts = y_stft\n",
    "    while(start <= len(y_time)-1111):\n",
    "        y_seg = divide_segments(y_time,start)\n",
    "        #print(y_seg)\n",
    "        start += 2222\n",
    "        y_stft = stft(y_seg,sr,0.05*sr,0.05*sr)\n",
    "        #y_stft_arr = np.asarray(y_stft).T\n",
    "        y_stft = y_stft.reshape(34)\n",
    "        y_stfts = np.vstack((y_stfts, y_stft))\n",
    "        #print(y_stft_arr.shape)\n",
    "\n",
    "        #np.column_stack((y_stfts, y_stft_arr))\n",
    "        \n",
    "    if(len(y_stfts)<50):\n",
    "        #cal how less\n",
    "        x = 50 - len(y_stfts)%50\n",
    "        zeros_arr = np.zeros(shape = (x,34))\n",
    "        x_arr = np.asanyarray(y_stfts)\n",
    "        x_arr = x_arr.reshape(-1,34)\n",
    "        x_final = np.vstack((x_arr,zeros_arr))\n",
    "        \n",
    "        return x_final\n",
    "    if(len(y_stfts)>=50):\n",
    "        y_stfts = y_stfts[0:50]\n",
    "        return np.asanyarray(y_stfts)"
   ]
  },
  {
   "cell_type": "code",
   "execution_count": null,
   "id": "9d6e2400",
   "metadata": {},
   "outputs": [],
   "source": []
  },
  {
   "cell_type": "code",
   "execution_count": 763,
   "id": "90f5ac86",
   "metadata": {},
   "outputs": [],
   "source": [
    "file_path = paths[0]\n",
    "label = emotions[0]\n",
    "labels = np.asarray(label)\n",
    "y,sr = librosa.load(file_path)\n",
    "y_time = librosa.frames_to_time(y)\n",
    "feat = feature_matricization(y_time)\n",
    "features = feat\n",
    "for i in range(len(paths)):\n",
    "    if(i!=0):\n",
    "        #print(i)\n",
    "        file_path = paths[i]\n",
    "        label = emotions[i]\n",
    "        labels = np.vstack((labels,label))\n",
    "        y,sr = librosa.load(file_path)\n",
    "        y_time = librosa.frames_to_time(y)\n",
    "        feat = feature_matricization(y_time)\n",
    "        features = np.vstack((features,feat))"
   ]
  },
  {
   "cell_type": "code",
   "execution_count": 764,
   "id": "2abb50c0",
   "metadata": {},
   "outputs": [
    {
     "data": {
      "text/plain": [
       "numpy.ndarray"
      ]
     },
     "execution_count": 764,
     "metadata": {},
     "output_type": "execute_result"
    }
   ],
   "source": [
    "type(features)"
   ]
  },
  {
   "cell_type": "code",
   "execution_count": 765,
   "id": "19a3ac1f",
   "metadata": {},
   "outputs": [
    {
     "data": {
      "text/plain": [
       "(20500, 34)"
      ]
     },
     "execution_count": 765,
     "metadata": {},
     "output_type": "execute_result"
    }
   ],
   "source": [
    "features.shape"
   ]
  },
  {
   "cell_type": "code",
   "execution_count": 766,
   "id": "4af34a20",
   "metadata": {},
   "outputs": [
    {
     "data": {
      "text/plain": [
       "410.0"
      ]
     },
     "execution_count": 766,
     "metadata": {},
     "output_type": "execute_result"
    }
   ],
   "source": [
    "indices = features.shape[0]/50\n",
    "indices"
   ]
  },
  {
   "cell_type": "code",
   "execution_count": 767,
   "id": "c3cae7f8",
   "metadata": {},
   "outputs": [],
   "source": [
    "features_seg = np.split(features,indices)"
   ]
  },
  {
   "cell_type": "code",
   "execution_count": 768,
   "id": "3e5f39b7",
   "metadata": {},
   "outputs": [
    {
     "data": {
      "text/plain": [
       "34"
      ]
     },
     "execution_count": 768,
     "metadata": {},
     "output_type": "execute_result"
    }
   ],
   "source": [
    "len(features_seg[0][0])"
   ]
  },
  {
   "cell_type": "code",
   "execution_count": null,
   "id": "027b8453",
   "metadata": {},
   "outputs": [],
   "source": []
  },
  {
   "cell_type": "code",
   "execution_count": 769,
   "id": "191b7a06",
   "metadata": {},
   "outputs": [
    {
     "data": {
      "text/plain": [
       "array([[0., 0., 1.],\n",
       "       [0., 0., 1.],\n",
       "       [0., 0., 1.],\n",
       "       ...,\n",
       "       [0., 1., 0.],\n",
       "       [0., 1., 0.],\n",
       "       [0., 1., 0.]], dtype=float32)"
      ]
     },
     "execution_count": 769,
     "metadata": {},
     "output_type": "execute_result"
    }
   ],
   "source": [
    "from sklearn.preprocessing import LabelEncoder\n",
    "from tensorflow.keras.utils import to_categorical\n",
    "le = LabelEncoder()\n",
    "labels = to_categorical(le.fit_transform(labels))\n",
    "labels"
   ]
  },
  {
   "cell_type": "code",
   "execution_count": 770,
   "id": "4e3f49e9",
   "metadata": {},
   "outputs": [],
   "source": [
    "from sklearn.model_selection import train_test_split\n",
    "X_train,X_test,y_train,y_test = train_test_split(features_seg,labels)"
   ]
  },
  {
   "cell_type": "code",
   "execution_count": 771,
   "id": "84609489",
   "metadata": {},
   "outputs": [
    {
     "data": {
      "text/plain": [
       "307"
      ]
     },
     "execution_count": 771,
     "metadata": {},
     "output_type": "execute_result"
    }
   ],
   "source": [
    "len(X_train)"
   ]
  },
  {
   "cell_type": "code",
   "execution_count": 772,
   "id": "a035cc65",
   "metadata": {},
   "outputs": [
    {
     "data": {
      "text/plain": [
       "103"
      ]
     },
     "execution_count": 772,
     "metadata": {},
     "output_type": "execute_result"
    }
   ],
   "source": [
    "len(X_test)"
   ]
  },
  {
   "cell_type": "code",
   "execution_count": 773,
   "id": "c0d38447",
   "metadata": {},
   "outputs": [
    {
     "data": {
      "text/plain": [
       "307"
      ]
     },
     "execution_count": 773,
     "metadata": {},
     "output_type": "execute_result"
    }
   ],
   "source": [
    "len(y_train)"
   ]
  },
  {
   "cell_type": "code",
   "execution_count": 774,
   "id": "7ed05fea",
   "metadata": {},
   "outputs": [
    {
     "data": {
      "text/plain": [
       "103"
      ]
     },
     "execution_count": 774,
     "metadata": {},
     "output_type": "execute_result"
    }
   ],
   "source": [
    "len(y_test)"
   ]
  },
  {
   "cell_type": "code",
   "execution_count": null,
   "id": "73c54cfb",
   "metadata": {},
   "outputs": [],
   "source": []
  },
  {
   "cell_type": "code",
   "execution_count": 775,
   "id": "74cc074a",
   "metadata": {},
   "outputs": [
    {
     "data": {
      "text/plain": [
       "(307, 3)"
      ]
     },
     "execution_count": 775,
     "metadata": {},
     "output_type": "execute_result"
    }
   ],
   "source": [
    "y_train.shape"
   ]
  },
  {
   "cell_type": "code",
   "execution_count": 776,
   "id": "211cbf3c",
   "metadata": {},
   "outputs": [
    {
     "data": {
      "text/plain": [
       "(307, 50, 34)"
      ]
     },
     "execution_count": 776,
     "metadata": {},
     "output_type": "execute_result"
    }
   ],
   "source": [
    "X_train_arr = np.asanyarray(X_train)\n",
    "X_train_arr.shape"
   ]
  },
  {
   "cell_type": "code",
   "execution_count": null,
   "id": "36719d13",
   "metadata": {},
   "outputs": [],
   "source": []
  },
  {
   "cell_type": "code",
   "execution_count": 777,
   "id": "58e32c1b",
   "metadata": {},
   "outputs": [
    {
     "data": {
      "text/plain": [
       "(103, 50, 34)"
      ]
     },
     "execution_count": 777,
     "metadata": {},
     "output_type": "execute_result"
    }
   ],
   "source": [
    "X_test_arr = np.asanyarray(X_test)\n",
    "X_test_arr.shape"
   ]
  },
  {
   "cell_type": "code",
   "execution_count": 778,
   "id": "480659c5",
   "metadata": {},
   "outputs": [],
   "source": [
    "import tensorflow"
   ]
  },
  {
   "cell_type": "code",
   "execution_count": 779,
   "id": "89bf1add",
   "metadata": {},
   "outputs": [],
   "source": [
    "from tensorflow.keras.layers import Conv1D, MaxPooling1D, Dense, Flatten,Dropout,BatchNormalization\n",
    "from tensorflow.keras.models import Sequential,model_from_yaml"
   ]
  },
  {
   "cell_type": "code",
   "execution_count": 780,
   "id": "b02effa6",
   "metadata": {},
   "outputs": [],
   "source": [
    "from tensorflow.keras.models import load_model\n",
    "from sklearn.metrics import confusion_matrix,ConfusionMatrixDisplay"
   ]
  },
  {
   "cell_type": "code",
   "execution_count": null,
   "id": "2eb76232",
   "metadata": {},
   "outputs": [],
   "source": []
  },
  {
   "cell_type": "code",
   "execution_count": null,
   "id": "f7a12565",
   "metadata": {},
   "outputs": [],
   "source": []
  },
  {
   "cell_type": "code",
   "execution_count": 781,
   "id": "073e32e9",
   "metadata": {},
   "outputs": [],
   "source": [
    "y_train = np.asarray(y_train).astype('float32').reshape(-1,3)\n",
    "y_test = np.asarray(y_test).astype('float32').reshape(-1,3)"
   ]
  },
  {
   "cell_type": "code",
   "execution_count": 782,
   "id": "3e2d6fd9",
   "metadata": {},
   "outputs": [
    {
     "data": {
      "text/plain": [
       "(3,)"
      ]
     },
     "execution_count": 782,
     "metadata": {},
     "output_type": "execute_result"
    }
   ],
   "source": [
    "y_train[0].shape"
   ]
  },
  {
   "cell_type": "code",
   "execution_count": null,
   "id": "60b157ed",
   "metadata": {},
   "outputs": [],
   "source": []
  },
  {
   "cell_type": "code",
   "execution_count": 878,
   "id": "9b365c75",
   "metadata": {},
   "outputs": [],
   "source": [
    "model = Sequential()\n",
    "model.add(Conv1D(32,5,input_shape = (50,34)))\n",
    "model.add(Conv1D(64,4))\n",
    "model.add(MaxPooling1D(3))\n",
    "model.add(Conv1D(128,2))\n",
    "model.add(Dropout(0.1))\n",
    "model.add(MaxPooling1D(2))\n",
    "model.add((Conv1D(128,2)))\n",
    "model.add(MaxPooling1D(2))\n",
    "model.add(Flatten())\n",
    "model.add(Dense(128))\n",
    "model.add(Dropout(0.4))\n",
    "model.add(Dense(3,activation='softmax'))"
   ]
  },
  {
   "cell_type": "code",
   "execution_count": null,
   "id": "0e9f8b0c",
   "metadata": {},
   "outputs": [],
   "source": []
  },
  {
   "cell_type": "code",
   "execution_count": 879,
   "id": "8c8ace6d",
   "metadata": {},
   "outputs": [],
   "source": [
    "model.compile(optimizer='adam',loss=tensorflow.keras.losses.categorical_crossentropy,metrics = tensorflow.keras.metrics.categorical_accuracy)"
   ]
  },
  {
   "cell_type": "code",
   "execution_count": 880,
   "id": "241a3a9f",
   "metadata": {},
   "outputs": [
    {
     "name": "stdout",
     "output_type": "stream",
     "text": [
      "Model: \"sequential_31\"\n",
      "_________________________________________________________________\n",
      " Layer (type)                Output Shape              Param #   \n",
      "=================================================================\n",
      " conv1d_104 (Conv1D)         (None, 46, 32)            5472      \n",
      "                                                                 \n",
      " conv1d_105 (Conv1D)         (None, 43, 64)            8256      \n",
      "                                                                 \n",
      " max_pooling1d_46 (MaxPoolin  (None, 14, 64)           0         \n",
      " g1D)                                                            \n",
      "                                                                 \n",
      " conv1d_106 (Conv1D)         (None, 13, 128)           16512     \n",
      "                                                                 \n",
      " dropout_21 (Dropout)        (None, 13, 128)           0         \n",
      "                                                                 \n",
      " max_pooling1d_47 (MaxPoolin  (None, 6, 128)           0         \n",
      " g1D)                                                            \n",
      "                                                                 \n",
      " conv1d_107 (Conv1D)         (None, 5, 128)            32896     \n",
      "                                                                 \n",
      " max_pooling1d_48 (MaxPoolin  (None, 2, 128)           0         \n",
      " g1D)                                                            \n",
      "                                                                 \n",
      " flatten_17 (Flatten)        (None, 256)               0         \n",
      "                                                                 \n",
      " dense_92 (Dense)            (None, 128)               32896     \n",
      "                                                                 \n",
      " dropout_22 (Dropout)        (None, 128)               0         \n",
      "                                                                 \n",
      " dense_93 (Dense)            (None, 3)                 387       \n",
      "                                                                 \n",
      "=================================================================\n",
      "Total params: 96,419\n",
      "Trainable params: 96,419\n",
      "Non-trainable params: 0\n",
      "_________________________________________________________________\n"
     ]
    }
   ],
   "source": [
    "model.summary()"
   ]
  },
  {
   "cell_type": "code",
   "execution_count": 881,
   "id": "8aa482c0",
   "metadata": {},
   "outputs": [
    {
     "name": "stdout",
     "output_type": "stream",
     "text": [
      "Epoch 1/20\n",
      "10/10 [==============================] - 1s 12ms/step - loss: 3.0264 - categorical_accuracy: 0.3779\n",
      "Epoch 2/20\n",
      "10/10 [==============================] - 0s 16ms/step - loss: 1.1392 - categorical_accuracy: 0.5440\n",
      "Epoch 3/20\n",
      "10/10 [==============================] - 0s 14ms/step - loss: 0.8751 - categorical_accuracy: 0.6059\n",
      "Epoch 4/20\n",
      "10/10 [==============================] - 0s 13ms/step - loss: 0.6468 - categorical_accuracy: 0.7166\n",
      "Epoch 5/20\n",
      "10/10 [==============================] - 0s 18ms/step - loss: 0.6680 - categorical_accuracy: 0.7134\n",
      "Epoch 6/20\n",
      "10/10 [==============================] - 0s 13ms/step - loss: 0.7039 - categorical_accuracy: 0.6840\n",
      "Epoch 7/20\n",
      "10/10 [==============================] - 0s 15ms/step - loss: 0.5550 - categorical_accuracy: 0.7427\n",
      "Epoch 8/20\n",
      "10/10 [==============================] - 0s 18ms/step - loss: 0.5579 - categorical_accuracy: 0.7590\n",
      "Epoch 9/20\n",
      "10/10 [==============================] - 0s 21ms/step - loss: 0.4445 - categorical_accuracy: 0.7980\n",
      "Epoch 10/20\n",
      "10/10 [==============================] - 0s 21ms/step - loss: 0.5493 - categorical_accuracy: 0.7459\n",
      "Epoch 11/20\n",
      "10/10 [==============================] - 0s 20ms/step - loss: 0.4249 - categorical_accuracy: 0.8111\n",
      "Epoch 12/20\n",
      "10/10 [==============================] - 0s 16ms/step - loss: 0.3925 - categorical_accuracy: 0.8502\n",
      "Epoch 13/20\n",
      "10/10 [==============================] - 0s 17ms/step - loss: 0.3900 - categorical_accuracy: 0.8274\n",
      "Epoch 14/20\n",
      "10/10 [==============================] - 0s 19ms/step - loss: 0.4350 - categorical_accuracy: 0.7883\n",
      "Epoch 15/20\n",
      "10/10 [==============================] - 0s 22ms/step - loss: 0.3299 - categorical_accuracy: 0.8730\n",
      "Epoch 16/20\n",
      "10/10 [==============================] - 0s 22ms/step - loss: 0.3602 - categorical_accuracy: 0.8436\n",
      "Epoch 17/20\n",
      "10/10 [==============================] - 0s 22ms/step - loss: 0.2542 - categorical_accuracy: 0.8827\n",
      "Epoch 18/20\n",
      "10/10 [==============================] - 0s 21ms/step - loss: 0.3163 - categorical_accuracy: 0.8664\n",
      "Epoch 19/20\n",
      "10/10 [==============================] - 0s 21ms/step - loss: 0.4066 - categorical_accuracy: 0.8143\n",
      "Epoch 20/20\n",
      "10/10 [==============================] - 0s 20ms/step - loss: 0.3258 - categorical_accuracy: 0.8632\n"
     ]
    },
    {
     "data": {
      "text/plain": [
       "<keras.callbacks.History at 0x7fd691c987f0>"
      ]
     },
     "execution_count": 881,
     "metadata": {},
     "output_type": "execute_result"
    }
   ],
   "source": [
    "model.fit(X_train_arr, y_train,epochs = 20)"
   ]
  },
  {
   "cell_type": "code",
   "execution_count": 882,
   "id": "bc64b1c6",
   "metadata": {},
   "outputs": [
    {
     "name": "stdout",
     "output_type": "stream",
     "text": [
      "10/10 [==============================] - 0s 4ms/step - loss: 0.1995 - categorical_accuracy: 0.9251\n"
     ]
    },
    {
     "data": {
      "text/plain": [
       "[0.19946403801441193, 0.9250814318656921]"
      ]
     },
     "execution_count": 882,
     "metadata": {},
     "output_type": "execute_result"
    }
   ],
   "source": [
    "model.evaluate(X_train_arr, y_train)"
   ]
  },
  {
   "cell_type": "code",
   "execution_count": 883,
   "id": "fa4a88ae",
   "metadata": {},
   "outputs": [
    {
     "name": "stdout",
     "output_type": "stream",
     "text": [
      "4/4 [==============================] - 0s 6ms/step - loss: 0.3769 - categorical_accuracy: 0.8252\n"
     ]
    },
    {
     "data": {
      "text/plain": [
       "[0.37691164016723633, 0.8252426981925964]"
      ]
     },
     "execution_count": 883,
     "metadata": {},
     "output_type": "execute_result"
    }
   ],
   "source": [
    "model.evaluate(X_test_arr,y_test)"
   ]
  },
  {
   "cell_type": "code",
   "execution_count": 884,
   "id": "5690d3bd",
   "metadata": {},
   "outputs": [
    {
     "name": "stdout",
     "output_type": "stream",
     "text": [
      "4/4 [==============================] - 0s 6ms/step\n"
     ]
    },
    {
     "data": {
      "image/png": "[encoded data removed]",
      "text/plain": [
       "<Figure size 432x288 with 2 Axes>"
      ]
     },
     "metadata": {
      "needs_background": "light"
     },
     "output_type": "display_data"
    }
   ],
   "source": [
    "p = model.predict(X_test_arr)\n",
    "cm = confusion_matrix(y_test.argmax(axis=1), p.argmax(axis=1))\n",
    "disp = ConfusionMatrixDisplay(confusion_matrix=cm,\n",
    "                              display_labels=['positive','neutral','negative'])\n",
    "\n",
    "disp.plot()\n",
    "plt.show()"
   ]
  },
  {
   "cell_type": "code",
   "execution_count": 885,
   "id": "66bbc0cf",
   "metadata": {},
   "outputs": [
    {
     "name": "stdout",
     "output_type": "stream",
     "text": [
      "10/10 [==============================] - 0s 4ms/step\n"
     ]
    },
    {
     "data": {
      "image/png": "[encoded data removed]",
      "text/plain": [
       "<Figure size 432x288 with 2 Axes>"
      ]
     },
     "metadata": {
      "needs_background": "light"
     },
     "output_type": "display_data"
    }
   ],
   "source": [
    "p = model.predict(X_train_arr)\n",
    "cm = confusion_matrix(y_train.argmax(axis=1), p.argmax(axis=1))\n",
    "disp = ConfusionMatrixDisplay(confusion_matrix=cm,\n",
    "                              display_labels=['positive','neutral','negative'])\n",
    "\n",
    "disp.plot()\n",
    "plt.show()"
   ]
  },
  {
   "cell_type": "code",
   "execution_count": 960,
   "id": "afd3a8b4",
   "metadata": {},
   "outputs": [],
   "source": [
    "val_test = '../Downloads/Audio-Classification-master/Audio_data/test/angry.wav'"
   ]
  },
  {
   "cell_type": "code",
   "execution_count": 961,
   "id": "6b485791",
   "metadata": {},
   "outputs": [],
   "source": [
    "y_val,sr = load_file(val_test)"
   ]
  },
  {
   "cell_type": "code",
   "execution_count": 962,
   "id": "c5710bb7",
   "metadata": {},
   "outputs": [],
   "source": [
    "y_val_time = librosa.frames_to_time(y_val)"
   ]
  },
  {
   "cell_type": "code",
   "execution_count": 963,
   "id": "db8f397c",
   "metadata": {},
   "outputs": [],
   "source": [
    "feat_matrix = feature_matricization(y_val_time)"
   ]
  },
  {
   "cell_type": "code",
   "execution_count": 964,
   "id": "6a92fe4b",
   "metadata": {},
   "outputs": [],
   "source": [
    "feat_matrix = np.asanyarray(feat_matrix)"
   ]
  },
  {
   "cell_type": "code",
   "execution_count": 965,
   "id": "8085ae3d",
   "metadata": {},
   "outputs": [],
   "source": [
    "feat_matrix = feat_matrix.reshape(1,50,34)"
   ]
  },
  {
   "cell_type": "code",
   "execution_count": 966,
   "id": "4f455895",
   "metadata": {},
   "outputs": [
    {
     "data": {
      "text/plain": [
       "(1, 50, 34)"
      ]
     },
     "execution_count": 966,
     "metadata": {},
     "output_type": "execute_result"
    }
   ],
   "source": [
    "feat_matrix.shape"
   ]
  },
  {
   "cell_type": "code",
   "execution_count": 967,
   "id": "750fd078",
   "metadata": {},
   "outputs": [
    {
     "name": "stdout",
     "output_type": "stream",
     "text": [
      "1/1 [==============================] - 0s 43ms/step\n"
     ]
    }
   ],
   "source": [
    "y = model.predict(feat_matrix)"
   ]
  },
  {
   "cell_type": "code",
   "execution_count": null,
   "id": "9b148392",
   "metadata": {},
   "outputs": [],
   "source": []
  },
  {
   "cell_type": "code",
   "execution_count": 968,
   "id": "9481cbb6",
   "metadata": {},
   "outputs": [
    {
     "data": {
      "text/plain": [
       "array([9.8718041e-01, 6.8776671e-06, 1.2812759e-02], dtype=float32)"
      ]
     },
     "execution_count": 968,
     "metadata": {},
     "output_type": "execute_result"
    }
   ],
   "source": [
    "y = y.reshape(3)\n",
    "y"
   ]
  },
  {
   "cell_type": "code",
   "execution_count": 969,
   "id": "25a5cbe6",
   "metadata": {},
   "outputs": [],
   "source": [
    "if(y[0]>y[2] and y[0]>y[1]):\n",
    "    y[0]=1\n",
    "    y[1]=0\n",
    "    y[2]=0\n",
    "elif(y[1]>y[2] and y[1]>y[0]):\n",
    "    y[0]=0\n",
    "    y[1]=1\n",
    "    y[2]=0\n",
    "else:\n",
    "    y[0]=0\n",
    "    y[1]=0\n",
    "    y[2]=1"
   ]
  },
  {
   "cell_type": "code",
   "execution_count": 970,
   "id": "4db88f85",
   "metadata": {},
   "outputs": [],
   "source": [
    "y = y.astype('int')"
   ]
  },
  {
   "cell_type": "code",
   "execution_count": 971,
   "id": "cbe9db74",
   "metadata": {},
   "outputs": [
    {
     "data": {
      "text/plain": [
       "array([1, 0, 0])"
      ]
     },
     "execution_count": 971,
     "metadata": {},
     "output_type": "execute_result"
    }
   ],
   "source": [
    "y"
   ]
  },
  {
   "cell_type": "code",
   "execution_count": 972,
   "id": "67b0ba03",
   "metadata": {},
   "outputs": [
    {
     "name": "stdout",
     "output_type": "stream",
     "text": [
      "['negative' 'neutral' 'positive']\n"
     ]
    }
   ],
   "source": [
    "print(le.classes_)"
   ]
  },
  {
   "cell_type": "code",
   "execution_count": 973,
   "id": "47a3c0b3",
   "metadata": {},
   "outputs": [
    {
     "data": {
      "text/plain": [
       "array(['neutral', 'negative', 'negative'], dtype='<U8')"
      ]
     },
     "execution_count": 973,
     "metadata": {},
     "output_type": "execute_result"
    }
   ],
   "source": [
    "le.inverse_transform(y.reshape(3))"
   ]
  },
  {
   "cell_type": "code",
   "execution_count": null,
   "id": "0c2a51e2",
   "metadata": {},
   "outputs": [],
   "source": []
  },
  {
   "cell_type": "code",
   "execution_count": 902,
   "id": "c3bb0eb9",
   "metadata": {},
   "outputs": [],
   "source": [
    "val_test = '../Downloads/Audio-Classification-master/Audio_data/test/neutral_1.wav'"
   ]
  },
  {
   "cell_type": "code",
   "execution_count": 903,
   "id": "2f3e5524",
   "metadata": {},
   "outputs": [],
   "source": [
    "y_val,sr = load_file(val_test)"
   ]
  },
  {
   "cell_type": "code",
   "execution_count": 904,
   "id": "70809a95",
   "metadata": {},
   "outputs": [],
   "source": [
    "y_val_time = librosa.frames_to_time(y_val)"
   ]
  },
  {
   "cell_type": "code",
   "execution_count": 905,
   "id": "3e5de0d4",
   "metadata": {},
   "outputs": [],
   "source": [
    "feat_matrix = feature_matricization(y_val_time)"
   ]
  },
  {
   "cell_type": "code",
   "execution_count": 906,
   "id": "9684daa2",
   "metadata": {},
   "outputs": [],
   "source": [
    "feat_matrix = np.asanyarray(feat_matrix)"
   ]
  },
  {
   "cell_type": "code",
   "execution_count": 907,
   "id": "0329d1e5",
   "metadata": {},
   "outputs": [],
   "source": [
    "feat_matrix = feat_matrix.reshape(1,50,34)"
   ]
  },
  {
   "cell_type": "code",
   "execution_count": 908,
   "id": "00daaffb",
   "metadata": {},
   "outputs": [
    {
     "data": {
      "text/plain": [
       "(1, 50, 34)"
      ]
     },
     "execution_count": 908,
     "metadata": {},
     "output_type": "execute_result"
    }
   ],
   "source": [
    "feat_matrix.shape"
   ]
  },
  {
   "cell_type": "code",
   "execution_count": 909,
   "id": "c8cd23db",
   "metadata": {},
   "outputs": [
    {
     "name": "stdout",
     "output_type": "stream",
     "text": [
      "1/1 [==============================] - 0s 33ms/step\n"
     ]
    },
    {
     "data": {
      "text/plain": [
       "array([[6.3935464e-04, 9.9936002e-01, 6.2749831e-07]], dtype=float32)"
      ]
     },
     "execution_count": 909,
     "metadata": {},
     "output_type": "execute_result"
    }
   ],
   "source": [
    "y = model.predict(feat_matrix)\n",
    "y"
   ]
  },
  {
   "cell_type": "code",
   "execution_count": 910,
   "id": "20a7559b",
   "metadata": {},
   "outputs": [],
   "source": [
    "y = y.reshape(3)"
   ]
  },
  {
   "cell_type": "code",
   "execution_count": 911,
   "id": "9ce4e2ba",
   "metadata": {},
   "outputs": [],
   "source": [
    "if(y[0]>y[2] and y[0]>y[1]):\n",
    "    y[0]=1\n",
    "    y[1]=0\n",
    "    y[2]=0\n",
    "elif(y[1]>y[2] and y[1]>y[0]):\n",
    "    y[0]=0\n",
    "    y[1]=1\n",
    "    y[2]=0\n",
    "else:\n",
    "    y[0]=0\n",
    "    y[1]=0\n",
    "    y[2]=1"
   ]
  },
  {
   "cell_type": "code",
   "execution_count": 912,
   "id": "728242ca",
   "metadata": {},
   "outputs": [
    {
     "data": {
      "text/plain": [
       "array([0., 1., 0.], dtype=float32)"
      ]
     },
     "execution_count": 912,
     "metadata": {},
     "output_type": "execute_result"
    }
   ],
   "source": [
    "y"
   ]
  },
  {
   "cell_type": "code",
   "execution_count": 913,
   "id": "7aef4867",
   "metadata": {},
   "outputs": [
    {
     "name": "stdout",
     "output_type": "stream",
     "text": [
      "['negative' 'neutral' 'positive']\n"
     ]
    }
   ],
   "source": [
    "print(le.classes_)"
   ]
  },
  {
   "cell_type": "code",
   "execution_count": null,
   "id": "e7a9d044",
   "metadata": {},
   "outputs": [],
   "source": []
  },
  {
   "cell_type": "code",
   "execution_count": null,
   "id": "bc0f066e",
   "metadata": {},
   "outputs": [],
   "source": []
  },
  {
   "cell_type": "code",
   "execution_count": 926,
   "id": "f75b6eec",
   "metadata": {},
   "outputs": [],
   "source": [
    "val_test = '../Downloads/Audio-Classification-master/Audio_data/test/positive.wav'"
   ]
  },
  {
   "cell_type": "code",
   "execution_count": 927,
   "id": "30c8995a",
   "metadata": {},
   "outputs": [
    {
     "name": "stdout",
     "output_type": "stream",
     "text": [
      "1/1 [==============================] - 0s 63ms/step\n"
     ]
    }
   ],
   "source": [
    "y_val,sr = load_file(val_test)\n",
    "y_val_time = librosa.frames_to_time(y_val)\n",
    "feat_matrix = feature_matricization(y_val_time)\n",
    "feat_matrix = np.asanyarray(feat_matrix)\n",
    "feat_matrix = feat_matrix.reshape(1,50,34)\n",
    "y = model.predict(feat_matrix)\n",
    "y = y.reshape(3)"
   ]
  },
  {
   "cell_type": "code",
   "execution_count": 928,
   "id": "b15eeb66",
   "metadata": {},
   "outputs": [],
   "source": [
    "if(y[0]>y[2] and y[0]>y[1]):\n",
    "    y[0]=1\n",
    "    y[1]=0\n",
    "    y[2]=0\n",
    "elif(y[1]>y[2] and y[1]>y[0]):\n",
    "    y[0]=0\n",
    "    y[1]=1\n",
    "    y[2]=0\n",
    "else:\n",
    "    y[0]=0\n",
    "    y[1]=0\n",
    "    y[2]=1"
   ]
  },
  {
   "cell_type": "code",
   "execution_count": 929,
   "id": "59193532",
   "metadata": {},
   "outputs": [
    {
     "data": {
      "text/plain": [
       "array([0., 0., 1.], dtype=float32)"
      ]
     },
     "execution_count": 929,
     "metadata": {},
     "output_type": "execute_result"
    }
   ],
   "source": [
    "y"
   ]
  },
  {
   "cell_type": "code",
   "execution_count": 931,
   "id": "51613d6d",
   "metadata": {},
   "outputs": [
    {
     "name": "stdout",
     "output_type": "stream",
     "text": [
      "['negative' 'neutral' 'positive']\n"
     ]
    }
   ],
   "source": [
    "print(le.classes_)"
   ]
  },
  {
   "cell_type": "code",
   "execution_count": null,
   "id": "eb1ba4f2",
   "metadata": {},
   "outputs": [],
   "source": []
  },
  {
   "cell_type": "code",
   "execution_count": null,
   "id": "a42b5f1b",
   "metadata": {},
   "outputs": [],
   "source": []
  },
  {
   "cell_type": "code",
   "execution_count": 919,
   "id": "e2815d33",
   "metadata": {},
   "outputs": [],
   "source": [
    "model.save('model_82.h5')"
   ]
  },
  {
   "cell_type": "code",
   "execution_count": null,
   "id": "34617dd8",
   "metadata": {},
   "outputs": [],
   "source": []
  },
  {
   "cell_type": "code",
   "execution_count": null,
   "id": "5a210014",
   "metadata": {},
   "outputs": [],
   "source": []
  },
  {
   "cell_type": "code",
   "execution_count": null,
   "id": "b25c203f",
   "metadata": {},
   "outputs": [],
   "source": []
  },
  {
   "cell_type": "code",
   "execution_count": null,
   "id": "5f51a1f4",
   "metadata": {},
   "outputs": [],
   "source": []
  }
 ],
 "metadata": {
  "kernelspec": {
   "display_name": "Python 3 (ipykernel)",
   "language": "python",
   "name": "python3"
  },
  "language_info": {
   "codemirror_mode": {
    "name": "ipython",
    "version": 3
   },
   "file_extension": ".py",
   "mimetype": "text/x-python",
   "name": "python",
   "nbconvert_exporter": "python",
   "pygments_lexer": "ipython3",
   "version": "3.9.12"
  }
 },
 "nbformat": 4,
 "nbformat_minor": 5
}
